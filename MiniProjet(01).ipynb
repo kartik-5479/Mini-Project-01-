{
  "nbformat": 4,
  "nbformat_minor": 0,
  "metadata": {
    "colab": {
      "provenance": [],
      "authorship_tag": "ABX9TyNKbjokxWfHPVlMsavTAuPs",
      "include_colab_link": true
    },
    "kernelspec": {
      "name": "python3",
      "display_name": "Python 3"
    },
    "language_info": {
      "name": "python"
    }
  },
  "cells": [
    {
      "cell_type": "markdown",
      "metadata": {
        "id": "view-in-github",
        "colab_type": "text"
      },
      "source": [
        "<a href=\"https://colab.research.google.com/github/kartik-5479/Mini-Project-01-/blob/main/MiniProjet(01).ipynb\" target=\"_parent\"><img src=\"https://colab.research.google.com/assets/colab-badge.svg\" alt=\"Open In Colab\"/></a>"
      ]
    },
    {
      "cell_type": "markdown",
      "source": [
        "# **Basics Of Python -->**"
      ],
      "metadata": {
        "id": "dqYq0Fb9cJtL"
      }
    },
    {
      "cell_type": "code",
      "execution_count": 45,
      "metadata": {
        "colab": {
          "base_uri": "https://localhost:8080/"
        },
        "id": "WaA_4A3ZZ697",
        "outputId": "aacb00d7-d20a-4eb5-ec93-0cd4413783d6"
      },
      "outputs": [
        {
          "output_type": "stream",
          "name": "stdout",
          "text": [
            "List --> [11, 12, 13, 14, 50, 60]\n"
          ]
        }
      ],
      "source": [
        "# Q1. L is a list defined as L= [11, 12, 13, 14].\n",
        "# (i)WAP to add 50 and 60 to L.\n",
        "L=[11,12,13,14]\n",
        "L.append(50)\n",
        "L.append(60)\n",
        "print(\"List -->\",L)"
      ]
    },
    {
      "cell_type": "code",
      "source": [
        "# (ii) WAP to remove 11 and 13from L.\n",
        "print(\"original list -->\",L)\n",
        "L.remove(11)\n",
        "L.remove(13)\n",
        "print(\"List after removing elements -->\",L)"
      ],
      "metadata": {
        "colab": {
          "base_uri": "https://localhost:8080/"
        },
        "id": "hqMFq3m0dpJ2",
        "outputId": "96943a48-452f-4d11-bb85-845525971da5"
      },
      "execution_count": 46,
      "outputs": [
        {
          "output_type": "stream",
          "name": "stdout",
          "text": [
            "original list --> [11, 12, 13, 14, 50, 60]\n",
            "List after removing elements --> [12, 14, 50, 60]\n"
          ]
        }
      ]
    },
    {
      "cell_type": "code",
      "source": [
        "# (iii) WAP to sort L in ascending order.\n",
        "L=[11, 12, 13, 14, 50, 60]\n",
        "L.sort()\n",
        "print(\"list after sorting-->\",L)"
      ],
      "metadata": {
        "colab": {
          "base_uri": "https://localhost:8080/"
        },
        "id": "qZxyiWCHeu8f",
        "outputId": "2c4d0ed6-9f1e-4ee9-ecc4-96528fa4049a"
      },
      "execution_count": 47,
      "outputs": [
        {
          "output_type": "stream",
          "name": "stdout",
          "text": [
            "list after sorting--> [11, 12, 13, 14, 50, 60]\n"
          ]
        }
      ]
    },
    {
      "cell_type": "code",
      "source": [
        "# (iv) WAP to sort L in descending order.\n",
        "L=[11, 12, 13, 14, 50, 60]\n",
        "L.sort(reverse=True)\n",
        "print(\"list after sorting in descending order -->\",L)"
      ],
      "metadata": {
        "colab": {
          "base_uri": "https://localhost:8080/"
        },
        "id": "00R1vm4QXFCJ",
        "outputId": "4548c83a-11ef-4540-9fc8-720c682b01a2"
      },
      "execution_count": 48,
      "outputs": [
        {
          "output_type": "stream",
          "name": "stdout",
          "text": [
            "list after sorting in descending order --> [60, 50, 14, 13, 12, 11]\n"
          ]
        }
      ]
    },
    {
      "cell_type": "code",
      "source": [
        "# (v) WAP to search for 13 in L.\n",
        "L=[11, 12, 13, 14, 50, 60]\n",
        "print(\"Is the element present in list -->\",13 in L)"
      ],
      "metadata": {
        "colab": {
          "base_uri": "https://localhost:8080/"
        },
        "id": "glNe7fViXcw3",
        "outputId": "b5c0251d-df7c-49ea-b120-95cf5dbc7543"
      },
      "execution_count": 49,
      "outputs": [
        {
          "output_type": "stream",
          "name": "stdout",
          "text": [
            "Is the element present in list --> True\n"
          ]
        }
      ]
    },
    {
      "cell_type": "code",
      "source": [
        "#(vi) WAP to count the number of elements present in L.\n",
        "L=[11, 12, 13, 14, 50, 60]\n",
        "print(\"number of elements in the list -->\",len(L))"
      ],
      "metadata": {
        "colab": {
          "base_uri": "https://localhost:8080/"
        },
        "id": "IBIIKzuuX8na",
        "outputId": "66a956b2-ab4b-4c11-a8f1-610079cc092f"
      },
      "execution_count": 50,
      "outputs": [
        {
          "output_type": "stream",
          "name": "stdout",
          "text": [
            "number of elements in the list --> 6\n"
          ]
        }
      ]
    },
    {
      "cell_type": "code",
      "source": [
        "# (vii) WAP to sum all the elements in L.\n",
        "L=[11, 12, 13, 14, 50, 60]\n",
        "print(\"sum of elements in the list -->\",sum(L))"
      ],
      "metadata": {
        "colab": {
          "base_uri": "https://localhost:8080/"
        },
        "id": "J4qleKbJZiWV",
        "outputId": "2baf67ac-5e5f-45b8-b49c-f8d3820e83a2"
      },
      "execution_count": 51,
      "outputs": [
        {
          "output_type": "stream",
          "name": "stdout",
          "text": [
            "sum of elements in the list --> 160\n"
          ]
        }
      ]
    },
    {
      "cell_type": "code",
      "source": [
        "# (viii) WAP to sum all ODD numbers in L.\n",
        "L=[11, 12, 13, 14, 50, 60]\n",
        "print(\"sum of all odd numbers in the list -->\",sum(x for x in L if x % 2 != 0))"
      ],
      "metadata": {
        "colab": {
          "base_uri": "https://localhost:8080/"
        },
        "id": "skJu9XQnZ_Fp",
        "outputId": "b2cced0a-16bc-4b95-8b17-4811452de60c"
      },
      "execution_count": 52,
      "outputs": [
        {
          "output_type": "stream",
          "name": "stdout",
          "text": [
            "sum of all odd numbers in the list --> 24\n"
          ]
        }
      ]
    },
    {
      "cell_type": "code",
      "source": [
        "# (ix) WAP to sum all EVEN numbers in L.\n",
        "L=[11, 12, 13, 14, 50, 60]\n",
        "print(\" sum of all even numbers in the list -->\",sum(x for x in L if x % 2 == 0))"
      ],
      "metadata": {
        "colab": {
          "base_uri": "https://localhost:8080/"
        },
        "id": "ErPDGIIdaSQJ",
        "outputId": "6d43792e-c3e7-4aa0-c624-b95938392eb6"
      },
      "execution_count": 53,
      "outputs": [
        {
          "output_type": "stream",
          "name": "stdout",
          "text": [
            " sum of all even numbers in the list --> 136\n"
          ]
        }
      ]
    },
    {
      "cell_type": "code",
      "source": [
        "# (x) WAP to sum all PRIME numbers in L.\n",
        "L=[11, 12, 13, 14, 50, 60]\n",
        "def is_prime(n):\n",
        "    return n > 1 and all(n % i != 0 for i in range(2, int(n**0.5)+1))\n",
        "\n",
        "print(\"sum of all prime numbers in list -->\",sum(x for x in L if is_prime(x)))"
      ],
      "metadata": {
        "colab": {
          "base_uri": "https://localhost:8080/"
        },
        "id": "m54AYgx1atkR",
        "outputId": "f961a2c8-7fce-4b5a-f111-45630e3e3b76"
      },
      "execution_count": 54,
      "outputs": [
        {
          "output_type": "stream",
          "name": "stdout",
          "text": [
            "sum of all prime numbers in list --> 24\n"
          ]
        }
      ]
    },
    {
      "cell_type": "code",
      "source": [
        "# (xi) WAP to clear all the elements in L.\n",
        "L=[11, 12, 13, 14, 50, 60]\n",
        "L.clear()\n",
        "print(\"list after clearing -->\",L)"
      ],
      "metadata": {
        "colab": {
          "base_uri": "https://localhost:8080/"
        },
        "id": "S4MSeAKXa_rf",
        "outputId": "7bf2001e-dab2-433e-840b-fe3ad82f5dbb"
      },
      "execution_count": 55,
      "outputs": [
        {
          "output_type": "stream",
          "name": "stdout",
          "text": [
            "list after clearing --> []\n"
          ]
        }
      ]
    },
    {
      "cell_type": "code",
      "source": [
        "# (xii) WAP to delete L.\n",
        "L=[11, 12, 13, 14, 50, 60]\n",
        "del L"
      ],
      "metadata": {
        "id": "TPTALA64bd1K"
      },
      "execution_count": 56,
      "outputs": []
    },
    {
      "cell_type": "code",
      "source": [
        "# Q2. D is a dictionary defined as D= {1:5.6, 2:7.8, 3:6.6, 4:8.7, 5:7.7}.\n",
        "#(i) WAP to add new entry in D; key=8 and value is 8.8\n",
        "D = {1:5.6, 2:7.8, 3:6.6, 4:8.7, 5:7.7}\n",
        "D[8] = 8.8\n",
        "print(\"After the new element -->\",D)"
      ],
      "metadata": {
        "colab": {
          "base_uri": "https://localhost:8080/"
        },
        "id": "qltT1e1-crWp",
        "outputId": "ca8e751d-c841-41b7-c2e9-6475611d9325"
      },
      "execution_count": 57,
      "outputs": [
        {
          "output_type": "stream",
          "name": "stdout",
          "text": [
            "After the new element --> {1: 5.6, 2: 7.8, 3: 6.6, 4: 8.7, 5: 7.7, 8: 8.8}\n"
          ]
        }
      ]
    },
    {
      "cell_type": "code",
      "source": [
        "# (ii) WAP to remove key=2.\n",
        "D={1: 5.6, 2: 7.8, 3: 6.6, 4: 8.7, 5: 7.7, 8: 8.8}\n",
        "D.pop(2)\n",
        "print(\"dictionary after removing the key -->\",D)"
      ],
      "metadata": {
        "colab": {
          "base_uri": "https://localhost:8080/"
        },
        "id": "RasMNQvkdZNk",
        "outputId": "f5e451bc-db85-42b2-bb2e-e63c8a4c5c6d"
      },
      "execution_count": 58,
      "outputs": [
        {
          "output_type": "stream",
          "name": "stdout",
          "text": [
            "dictionary after removing the key --> {1: 5.6, 3: 6.6, 4: 8.7, 5: 7.7, 8: 8.8}\n"
          ]
        }
      ]
    },
    {
      "cell_type": "code",
      "source": [
        "# (iii) WAP to check weather 6 key is present in D.\n",
        "D={1: 5.6, 2: 7.8, 3: 6.6, 4: 8.7, 5: 7.7, 8: 8.8}\n",
        "print(\"Is the key present in the dictionary -->\",6 in D)"
      ],
      "metadata": {
        "colab": {
          "base_uri": "https://localhost:8080/"
        },
        "id": "WgxhPa1GeEKB",
        "outputId": "b4b06eef-059b-428d-d5b8-33dca1e2ed6f"
      },
      "execution_count": 59,
      "outputs": [
        {
          "output_type": "stream",
          "name": "stdout",
          "text": [
            "Is the key present in the dictionary --> False\n"
          ]
        }
      ]
    },
    {
      "cell_type": "code",
      "source": [
        "# (iv) WAP to count the number of elements present in D.\n",
        "D={1: 5.6, 2: 7.8, 3: 6.6, 4: 8.7, 5: 7.7, 8: 8.8}\n",
        "print(\"Number of keys in the dictionary -->\",len(D))"
      ],
      "metadata": {
        "colab": {
          "base_uri": "https://localhost:8080/"
        },
        "id": "q3vWtsRLeqqf",
        "outputId": "06678ceb-ec45-426f-a922-b2baf127d8ec"
      },
      "execution_count": 60,
      "outputs": [
        {
          "output_type": "stream",
          "name": "stdout",
          "text": [
            "Number of keys in the dictionary --> 6\n"
          ]
        }
      ]
    },
    {
      "cell_type": "code",
      "source": [
        "# (v) WAP to add all the values present D.\n",
        "D={1: 5.6, 2: 7.8, 3: 6.6, 4: 8.7, 5: 7.7, 8: 8.8}\n",
        "print(\"After adding all the values from Dictionary -->\",sum(D.values()))"
      ],
      "metadata": {
        "colab": {
          "base_uri": "https://localhost:8080/"
        },
        "id": "DgmLGkqzfXkE",
        "outputId": "245ce9bd-341f-4978-90a9-a5155309a25c"
      },
      "execution_count": 61,
      "outputs": [
        {
          "output_type": "stream",
          "name": "stdout",
          "text": [
            "After adding all the values from Dictionary --> 45.2\n"
          ]
        }
      ]
    },
    {
      "cell_type": "code",
      "source": [
        "# (vi) WAP to update the value of 3 to 7.1.\n",
        "D={1: 5.6, 2: 7.8, 3: 6.6, 4: 8.7, 5: 7.7, 8: 8.8}\n",
        "D[3] = 7.1\n",
        "print(\"Dictionary after updating -->\",D)"
      ],
      "metadata": {
        "colab": {
          "base_uri": "https://localhost:8080/"
        },
        "id": "R-jwhWfEfqtK",
        "outputId": "e0cc2481-1462-4369-c9f9-cbf0d96c04bd"
      },
      "execution_count": 62,
      "outputs": [
        {
          "output_type": "stream",
          "name": "stdout",
          "text": [
            "Dictionary after updating --> {1: 5.6, 2: 7.8, 3: 7.1, 4: 8.7, 5: 7.7, 8: 8.8}\n"
          ]
        }
      ]
    },
    {
      "cell_type": "code",
      "source": [
        "# (vii) WAP to clear the dictionary.\n",
        "D={1: 5.6, 2: 7.8, 3: 6.6, 4: 8.7, 5: 7.7, 8: 8.8}\n",
        "D.clear()\n",
        "print(D)"
      ],
      "metadata": {
        "colab": {
          "base_uri": "https://localhost:8080/"
        },
        "id": "Ujzgm2J0g5aA",
        "outputId": "703709d1-c1b4-47b8-e768-09bdd8ab8e42"
      },
      "execution_count": 63,
      "outputs": [
        {
          "output_type": "stream",
          "name": "stdout",
          "text": [
            "{}\n"
          ]
        }
      ]
    },
    {
      "cell_type": "code",
      "source": [
        "# Q3. S1 is a set defined as S1= [10, 20, 30, 40, 50, 60].\n",
        "#     S2 is a set defined as S2= [40, 50, 60, 70, 80, 90].\n",
        "# (i) WAP to add 55 and 66 in Set S1.\n",
        "S1 = {10, 20, 30, 40, 50, 60}\n",
        "S2 = {40, 50, 60, 70, 80, 90}\n",
        "S1.update([55, 66])\n",
        "print(\"set after updating -->\",S1)"
      ],
      "metadata": {
        "colab": {
          "base_uri": "https://localhost:8080/"
        },
        "id": "BIMg6KbzhK5V",
        "outputId": "55df1bad-b8cb-4215-efbd-e4c17a4b28dc"
      },
      "execution_count": 64,
      "outputs": [
        {
          "output_type": "stream",
          "name": "stdout",
          "text": [
            "set after updating --> {50, 66, 20, 55, 40, 10, 60, 30}\n"
          ]
        }
      ]
    },
    {
      "cell_type": "code",
      "source": [
        "# (ii) WAP to remove 10 and 30 from Set S1.\n",
        "S1 = {10, 20, 30, 40, 50, 60}\n",
        "S1.discard(10)\n",
        "S1.discard(30)\n",
        "print(\"set after removing elements -->\",S1)"
      ],
      "metadata": {
        "colab": {
          "base_uri": "https://localhost:8080/"
        },
        "id": "OqiOjt2Cjrev",
        "outputId": "606c5a56-0257-4adf-fb05-9a281837bf09"
      },
      "execution_count": 65,
      "outputs": [
        {
          "output_type": "stream",
          "name": "stdout",
          "text": [
            "set after removing elements --> {50, 20, 40, 60}\n"
          ]
        }
      ]
    },
    {
      "cell_type": "code",
      "source": [
        "# (iii) WAP to check whether 40 is present in S1.\n",
        "S1 = {10, 20, 30, 40, 50, 60}\n",
        "print(\" Is the element present in set -->\",40 in S1)"
      ],
      "metadata": {
        "colab": {
          "base_uri": "https://localhost:8080/"
        },
        "id": "-rg9hcncj-VX",
        "outputId": "3608cb8c-ee2c-4050-d5a3-a1c01595faef"
      },
      "execution_count": 67,
      "outputs": [
        {
          "output_type": "stream",
          "name": "stdout",
          "text": [
            " Is the element present in set --> True\n"
          ]
        }
      ]
    },
    {
      "cell_type": "code",
      "source": [
        "# (iv) WAP to find the union between S1 and S2.\n",
        "S1 = {10, 20, 30, 40, 50, 60}\n",
        "S2 = {40, 50, 60, 70, 80, 90}\n",
        "print(\"Union of the sets -->\",S1.union(S2))"
      ],
      "metadata": {
        "colab": {
          "base_uri": "https://localhost:8080/"
        },
        "id": "Ir1VA4RWkUAr",
        "outputId": "9f7866b8-c1a9-452f-df97-68de5bffe29f"
      },
      "execution_count": 69,
      "outputs": [
        {
          "output_type": "stream",
          "name": "stdout",
          "text": [
            "Union of the sets --> {70, 40, 10, 80, 50, 20, 90, 60, 30}\n"
          ]
        }
      ]
    },
    {
      "cell_type": "code",
      "source": [
        "# (v) WAP to find the intersection between S1 and S2.\n",
        "S1 = {10, 20, 30, 40, 50, 60}\n",
        "S2 = {40, 50, 60, 70, 80, 90}\n",
        "print(\"intersection of the sets -->\",S1.intersection(S2))"
      ],
      "metadata": {
        "colab": {
          "base_uri": "https://localhost:8080/"
        },
        "id": "gwZ2sOlEkqSS",
        "outputId": "b411b7c2-fdba-402b-e9dc-8b3100d0ef88"
      },
      "execution_count": 70,
      "outputs": [
        {
          "output_type": "stream",
          "name": "stdout",
          "text": [
            "intersection of the sets --> {40, 50, 60}\n"
          ]
        }
      ]
    },
    {
      "cell_type": "code",
      "source": [
        "# Q4. Write the following program.\n",
        "# (i) WAP to print 100 random strings whose length between 6 and 8.\n",
        "import random\n",
        "import string\n",
        "for _ in range(100):\n",
        "    print(''.join(random.choices(string.ascii_letters, k=random.randint(6, 8))))\n",
        "\n",
        "print(\"----------------------\")\n",
        "\n",
        "# (ii) WAP to print all prime numbers between 600 and 800.\n",
        "for num in range(600, 801):\n",
        "    if is_prime(num):\n",
        "        print(num)\n",
        "\n",
        "print(\"----------------------\")\n",
        "\n",
        "# (iii) WAP to print all numbers between 100 and 1000 that are divisible by 7 and 9.\n",
        "for i in range(100, 1001):\n",
        "    if i % 7 == 0 and i % 9 == 0:\n",
        "        print(i)"
      ],
      "metadata": {
        "colab": {
          "base_uri": "https://localhost:8080/"
        },
        "id": "s3_Nf7Uvk8bC",
        "outputId": "ef2e288b-a920-42f9-e85e-a1b75ba5047c"
      },
      "execution_count": 74,
      "outputs": [
        {
          "output_type": "stream",
          "name": "stdout",
          "text": [
            "GFoBtD\n",
            "PDxJUMKc\n",
            "vSWFrkZ\n",
            "CDLucO\n",
            "qYllAh\n",
            "AhlPAvcj\n",
            "nAUTEQDe\n",
            "USIGueUe\n",
            "CqsHOd\n",
            "TSeWCtEm\n",
            "mtUpJCV\n",
            "dsJbXj\n",
            "yWehHqwO\n",
            "TMJZoHFV\n",
            "qsnEpglI\n",
            "wFMJZOyN\n",
            "nXowfV\n",
            "lkLPdA\n",
            "mPXLiFKo\n",
            "hmTDtvV\n",
            "NCXDyB\n",
            "fJmdPJqO\n",
            "vUGjifl\n",
            "HxHrkDbe\n",
            "FFTntA\n",
            "uQvVWl\n",
            "TFLaqzuM\n",
            "ZqxkYHT\n",
            "XYEzqcp\n",
            "sSZgKKiD\n",
            "iLnGFPp\n",
            "SNoDKOH\n",
            "dzvoZw\n",
            "dAkjgyeA\n",
            "MxoBkIuO\n",
            "jPEUekN\n",
            "cjMsAj\n",
            "NmVeYAuy\n",
            "rczHjG\n",
            "DmSslm\n",
            "EqxOEXX\n",
            "yjVQYrNY\n",
            "YfHMuyH\n",
            "TbzfIij\n",
            "qlJDOaF\n",
            "XRkfWjs\n",
            "VzSPGp\n",
            "SlNDkJ\n",
            "vWVolj\n",
            "RzHEUT\n",
            "QSoGwdj\n",
            "TLQSKzG\n",
            "ufikhYc\n",
            "AUVkgX\n",
            "GaNbskx\n",
            "xyAgMX\n",
            "jWLbehOc\n",
            "uFZOJhFy\n",
            "sRopcBG\n",
            "WYsHDVI\n",
            "OuqrNdt\n",
            "fYnIVJf\n",
            "YmwKQcH\n",
            "cmerTIl\n",
            "Htypye\n",
            "TExodYHF\n",
            "HfsVeXGL\n",
            "QJGwnZsK\n",
            "AZnFOMf\n",
            "tOqfnIT\n",
            "pKSSIj\n",
            "HYciImo\n",
            "MExsCuMc\n",
            "azsBHI\n",
            "JCzEeFrP\n",
            "fQZpZpaf\n",
            "gOZRAL\n",
            "tuxATy\n",
            "UCWSgN\n",
            "vWeSHh\n",
            "iOeeEC\n",
            "tvrBVlx\n",
            "iANXGOR\n",
            "Lobcrwbw\n",
            "HMXvtkQg\n",
            "ibxIckgh\n",
            "bnPQkPz\n",
            "RrKEmv\n",
            "JVfzmo\n",
            "TqACQd\n",
            "lgkcVrVx\n",
            "NPorwLD\n",
            "WqcSnqE\n",
            "lBjDqe\n",
            "FDwDeiBa\n",
            "kxWUBgaF\n",
            "PTkwla\n",
            "EhzNgicf\n",
            "ibKwRT\n",
            "nBXmbxtc\n",
            "----------------------\n",
            "601\n",
            "607\n",
            "613\n",
            "617\n",
            "619\n",
            "631\n",
            "641\n",
            "643\n",
            "647\n",
            "653\n",
            "659\n",
            "661\n",
            "673\n",
            "677\n",
            "683\n",
            "691\n",
            "701\n",
            "709\n",
            "719\n",
            "727\n",
            "733\n",
            "739\n",
            "743\n",
            "751\n",
            "757\n",
            "761\n",
            "769\n",
            "773\n",
            "787\n",
            "797\n",
            "----------------------\n",
            "126\n",
            "189\n",
            "252\n",
            "315\n",
            "378\n",
            "441\n",
            "504\n",
            "567\n",
            "630\n",
            "693\n",
            "756\n",
            "819\n",
            "882\n",
            "945\n"
          ]
        }
      ]
    },
    {
      "cell_type": "code",
      "source": [
        "# Q5. WAP to create two lists of 10 random numbers between 10 and 30;\n",
        "# (i) Common numbers in the two lists\n",
        "A = [random.randint(10, 30) for _ in range(10)]\n",
        "B = [random.randint(10, 30) for _ in range(10)]\n",
        "print(set(A) & set(B))"
      ],
      "metadata": {
        "colab": {
          "base_uri": "https://localhost:8080/"
        },
        "id": "HD_dbRuClw0k",
        "outputId": "2c2de6b6-ab71-4327-db51-5ff542245844"
      },
      "execution_count": 75,
      "outputs": [
        {
          "output_type": "stream",
          "name": "stdout",
          "text": [
            "{29, 30}\n"
          ]
        }
      ]
    },
    {
      "cell_type": "code",
      "source": [
        "# (ii) Unique numbers in both the list\n",
        "print(set(A) ^ set(B))"
      ],
      "metadata": {
        "colab": {
          "base_uri": "https://localhost:8080/"
        },
        "id": "Q9aUy6c6mDOh",
        "outputId": "71b2a711-494a-4b96-8f4a-7550ec3eaf91"
      },
      "execution_count": 76,
      "outputs": [
        {
          "output_type": "stream",
          "name": "stdout",
          "text": [
            "{10, 12, 13, 14, 16, 17, 18, 19, 20, 21, 22, 26, 28}\n"
          ]
        }
      ]
    },
    {
      "cell_type": "code",
      "source": [
        "# (iii) Minimum in both the list\n",
        "print(set(A) ^ set(B))"
      ],
      "metadata": {
        "colab": {
          "base_uri": "https://localhost:8080/"
        },
        "id": "qUskQ6MUmLwB",
        "outputId": "1b6ed0cc-6c0f-401b-f710-f0231323f2d5"
      },
      "execution_count": 77,
      "outputs": [
        {
          "output_type": "stream",
          "name": "stdout",
          "text": [
            "{10, 12, 13, 14, 16, 17, 18, 19, 20, 21, 22, 26, 28}\n"
          ]
        }
      ]
    },
    {
      "cell_type": "code",
      "source": [
        "# (iv) Maximum in both the list\n",
        "print(max(A), max(B))"
      ],
      "metadata": {
        "colab": {
          "base_uri": "https://localhost:8080/"
        },
        "id": "mcPNEvHTmWTt",
        "outputId": "9ddbbf59-3fd2-4f65-9123-f632531bdf16"
      },
      "execution_count": 78,
      "outputs": [
        {
          "output_type": "stream",
          "name": "stdout",
          "text": [
            "30 30\n"
          ]
        }
      ]
    },
    {
      "cell_type": "code",
      "source": [
        "# (v) Sum of both the lists\n",
        "print(sum(A), sum(B))"
      ],
      "metadata": {
        "colab": {
          "base_uri": "https://localhost:8080/"
        },
        "id": "oOjcmJwRmcoW",
        "outputId": "2491370b-5aa8-4ee4-8fa2-2ca3a0731781"
      },
      "execution_count": 79,
      "outputs": [
        {
          "output_type": "stream",
          "name": "stdout",
          "text": [
            "160 226\n"
          ]
        }
      ]
    },
    {
      "cell_type": "code",
      "source": [
        "# Q6. WAP to create a list of 100 random numbers between 100 and 900. Count and print the:\n",
        "nums = [random.randint(100, 900) for _ in range(100)]\n",
        "\n",
        "# (i) All odd numbers\n",
        "print([n for n in nums if n % 2 != 0])\n",
        "\n",
        "# (ii) All even numbers\n",
        "print([n for n in nums if n % 2 == 0])\n",
        "\n",
        "# (iii) All prime numbers\n",
        "print([n for n in nums if is_prime(n)])\n"
      ],
      "metadata": {
        "colab": {
          "base_uri": "https://localhost:8080/"
        },
        "id": "7AcX0WhbmmAD",
        "outputId": "7b875e85-b1f6-40ea-fa84-450919cdd7f4"
      },
      "execution_count": 80,
      "outputs": [
        {
          "output_type": "stream",
          "name": "stdout",
          "text": [
            "[601, 393, 377, 527, 223, 563, 127, 203, 153, 331, 873, 873, 449, 235, 547, 357, 659, 391, 159, 833, 119, 607, 717, 117, 253, 223, 461, 495, 649, 503, 159, 871, 539, 285, 775, 513, 627, 491, 511, 263, 333, 469, 519, 805, 797, 563, 541, 137, 701]\n",
            "[498, 200, 642, 378, 456, 104, 900, 294, 284, 764, 346, 740, 550, 180, 466, 708, 712, 136, 350, 266, 272, 338, 426, 274, 332, 530, 130, 228, 336, 432, 556, 764, 204, 104, 680, 424, 144, 526, 152, 554, 292, 584, 848, 596, 820, 558, 448, 746, 268, 630, 108]\n",
            "[601, 223, 563, 127, 331, 449, 547, 659, 607, 223, 461, 503, 491, 263, 797, 563, 541, 137, 701]\n"
          ]
        }
      ]
    },
    {
      "cell_type": "code",
      "source": [
        "#Q7. D is a dictionary defined as D={1:\"One\",2:\"Two\",3:\"Three\",4:\"Four\", 5:\"Five\"}.\n",
        "# WAP to read all the keys and values from dictionary and write to the file in the given below format.\n",
        "# Key1, Value1\n",
        "# Key2, Value2\n",
        "# Key3, Value3\n",
        "D = {1:\"One\",2:\"Two\",3:\"Three\",4:\"Four\",5:\"Five\"}\n",
        "with open(\"dict_output.txt\", \"w\") as f:\n",
        "    for k, v in D.items():\n",
        "        f.write(f\"{k}, {v}\\n\")"
      ],
      "metadata": {
        "id": "dYe07RgynCGw"
      },
      "execution_count": 83,
      "outputs": []
    },
    {
      "cell_type": "code",
      "source": [
        "# Q8. L is a list defined as L={\"One\",\"Two\",\"Three\",\"Four\",\"Five\"}.\n",
        "# WAP to count the length of reach element from a list and write to the file in the given below format:\n",
        "# One, 3\n",
        "# Two, 3\n",
        "# Four, 4\n",
        "L = [\"One\", \"Two\", \"Three\", \"Four\", \"Five\"]\n",
        "with open(\"length_output.txt\", \"w\") as f:\n",
        "    for item in L:\n",
        "        f.write(f\"{item}, {len(item)}\\n\")"
      ],
      "metadata": {
        "id": "CHTOxxk9nfSL"
      },
      "execution_count": 84,
      "outputs": []
    },
    {
      "cell_type": "code",
      "source": [
        "# Q9. Write to the file 100 random strings whose length between 10 and 15.\n",
        "with open(\"random_strings.txt\", \"w\") as f:\n",
        "    for _ in range(100):\n",
        "        s = ''.join(random.choices(string.ascii_letters, k=random.randint(10, 15)))\n",
        "        f.write(s + '\\n')"
      ],
      "metadata": {
        "id": "6ZlVolhxnwZH"
      },
      "execution_count": 85,
      "outputs": []
    },
    {
      "cell_type": "code",
      "source": [
        "# Q10. Write to the file all prime numbers between 600 and 800\n",
        "with open(\"prime_600_800.txt\", \"w\") as f:\n",
        "    for num in range(600, 801):\n",
        "        if is_prime(num):\n",
        "            f.write(str(num) + '\\n')"
      ],
      "metadata": {
        "id": "PZ5uJ0hhn5mp"
      },
      "execution_count": 86,
      "outputs": []
    },
    {
      "cell_type": "code",
      "source": [
        "# Q11. WAP to calculate the time taken by a program.\n",
        "import time\n",
        "start = time.time()\n",
        "sum([i for i in range(1000000)])  # sample task\n",
        "end = time.time()\n",
        "print(\"Time taken:\", end - start)"
      ],
      "metadata": {
        "colab": {
          "base_uri": "https://localhost:8080/"
        },
        "id": "qumb-FhYn_xw",
        "outputId": "5bf0ae87-427d-4fac-86d2-ac428013ab54"
      },
      "execution_count": 87,
      "outputs": [
        {
          "output_type": "stream",
          "name": "stdout",
          "text": [
            "Time taken: 0.06033587455749512\n"
          ]
        }
      ]
    },
    {
      "cell_type": "code",
      "source": [
        "# Q13. WAP to create a dictionary of student marks in five subjects and you have to find the student\n",
        "#      having maximum and minimum average marks.\n",
        "students = {\n",
        "    \"John\": [85, 90, 75, 88, 92],\n",
        "    \"Alice\": [78, 81, 74, 80, 79],\n",
        "    \"Bob\": [90, 88, 84, 91, 89]\n",
        "}\n",
        "\n",
        "averages = {k: sum(v)/len(v) for k, v in students.items()}\n",
        "max_avg = max(averages, key=averages.get)\n",
        "min_avg = min(averages, key=averages.get)\n",
        "\n",
        "print(f\"Max Avg: {max_avg} -> {averages[max_avg]}\")\n",
        "print(f\"Min Avg: {min_avg} -> {averages[min_avg]}\")"
      ],
      "metadata": {
        "colab": {
          "base_uri": "https://localhost:8080/"
        },
        "id": "Jj-CIILZoHvM",
        "outputId": "96b4e992-773f-432f-fba4-274e6c521197"
      },
      "execution_count": 88,
      "outputs": [
        {
          "output_type": "stream",
          "name": "stdout",
          "text": [
            "Max Avg: Bob -> 88.4\n",
            "Min Avg: Alice -> 78.4\n"
          ]
        }
      ]
    }
  ]
}